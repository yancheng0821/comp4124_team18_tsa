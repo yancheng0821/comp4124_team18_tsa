{
 "cells": [
  {
   "cell_type": "markdown",
   "metadata": {
    "application/vnd.databricks.v1+cell": {
     "cellMetadata": {
      "byteLimit": 2048000,
      "rowLimit": 10000
     },
     "inputWidgets": {},
     "nuid": "b735c333-fd04-4b37-b352-515085c57264",
     "showTitle": false,
     "title": ""
    },
    "collapsed": false
   },
   "source": [
    "# Exploring 2020 US election tweet sentiment: analysis based on big data and machine learning\n",
    "\n",
    "\n",
    "This project utilized Apache Spark and MLib to conduct in-depth analysis and sentiment prediction on Twitter data during the 2020 US presidential election. \n",
    "\n",
    "\n",
    "### Team 18: \n",
    "Cheng Yan, Xuanhong Luo, Wenchao Xia, Shangkai Jiang, Chengkai Wang, Wentong Du"
   ]
  },
  {
   "cell_type": "markdown",
   "metadata": {
    "application/vnd.databricks.v1+cell": {
     "cellMetadata": {
      "byteLimit": 2048000,
      "rowLimit": 10000
     },
     "inputWidgets": {},
     "nuid": "d57a6d4e-97de-4d73-9292-efe6beb3a92d",
     "showTitle": false,
     "title": ""
    },
    "collapsed": false
   },
   "source": [
    "# Steps:\n",
    "\n",
    "###### 1.Loading and preprocessing the data:\n",
    "\n",
    "* Load data from a CSV file.\n",
    "* View missing values of data and delete rows containing missing values.\n",
    "* Clean up the content of tweets to reduce data noise.\n",
    "* Using natural language processing and sentient analysis algorithms, classify tweets into different types of sentiments\n",
    "\n",
    "###### 2.Feature engineering:\n",
    "\n",
    "- Using TF-IDF for Feature Extraction of Text\n",
    "\n",
    "###### 3.Create a model and compare multiple model metrics\n",
    "\n",
    "- Use different machine learning models to train and predict Twitter data, and use the accuracy, recall, F1 score, and other indicators of different models to compare each model. \n",
    "\n",
    "###### 4.Prediction on the test set\n",
    "\n",
    "- Make predictions on the test set and print model metrics.\n"
   ]
  },
  {
   "cell_type": "code",
   "execution_count": 0,
   "metadata": {
    "ExecuteTime": {
     "end_time": "2024-05-09T16:26:53.216365Z",
     "start_time": "2024-05-09T16:26:53.209413Z"
    },
    "application/vnd.databricks.v1+cell": {
     "cellMetadata": {
      "byteLimit": 2048000,
      "rowLimit": 10000
     },
     "inputWidgets": {},
     "nuid": "2e373f66-16e8-4a78-b144-e8a6d8832daf",
     "showTitle": false,
     "title": ""
    },
    "collapsed": false
   },
   "outputs": [
    {
     "output_type": "stream",
     "name": "stdout",
     "output_type": "stream",
     "text": [
      "\u001B[43mNote: you may need to restart the kernel using dbutils.library.restartPython() to use updated packages.\u001B[0m\nCollecting textblob\n  Downloading textblob-0.18.0.post0-py3-none-any.whl (626 kB)\n     ━━━━━━━━━━━━━━━━━━━━━━━━━━━━━━━━━━━━━━ 626.3/626.3 kB 14.2 MB/s eta 0:00:00\nCollecting nltk>=3.8\n  Downloading nltk-3.8.1-py3-none-any.whl (1.5 MB)\n     ━━━━━━━━━━━━━━━━━━━━━━━━━━━━━━━━━━━━━━━━ 1.5/1.5 MB 53.6 MB/s eta 0:00:00\nRequirement already satisfied: click in /databricks/python3/lib/python3.10/site-packages (from nltk>=3.8->textblob) (8.0.4)\nRequirement already satisfied: regex>=2021.8.3 in /databricks/python3/lib/python3.10/site-packages (from nltk>=3.8->textblob) (2022.7.9)\nRequirement already satisfied: tqdm in /databricks/python3/lib/python3.10/site-packages (from nltk>=3.8->textblob) (4.64.1)\nRequirement already satisfied: joblib in /databricks/python3/lib/python3.10/site-packages (from nltk>=3.8->textblob) (1.2.0)\nInstalling collected packages: nltk, textblob\n  Attempting uninstall: nltk\n    Found existing installation: nltk 3.7\n    Not uninstalling nltk at /databricks/python3/lib/python3.10/site-packages, outside environment /local_disk0/.ephemeral_nfs/envs/pythonEnv-1de8568c-2eb1-4d4c-af66-5e49cb269730\n    Can't uninstall 'nltk'. No files were found to uninstall.\nSuccessfully installed nltk-3.8.1 textblob-0.18.0.post0\n\u001B[43mNote: you may need to restart the kernel using dbutils.library.restartPython() to use updated packages.\u001B[0m\n\u001B[43mNote: you may need to restart the kernel using dbutils.library.restartPython() to use updated packages.\u001B[0m\nRequirement already satisfied: nltk in /local_disk0/.ephemeral_nfs/envs/pythonEnv-1de8568c-2eb1-4d4c-af66-5e49cb269730/lib/python3.10/site-packages (3.8.1)\nRequirement already satisfied: joblib in /databricks/python3/lib/python3.10/site-packages (from nltk) (1.2.0)\nRequirement already satisfied: regex>=2021.8.3 in /databricks/python3/lib/python3.10/site-packages (from nltk) (2022.7.9)\nRequirement already satisfied: tqdm in /databricks/python3/lib/python3.10/site-packages (from nltk) (4.64.1)\nRequirement already satisfied: click in /databricks/python3/lib/python3.10/site-packages (from nltk) (8.0.4)\n\u001B[43mNote: you may need to restart the kernel using dbutils.library.restartPython() to use updated packages.\u001B[0m\n"
     ]
    }
   ],
   "source": [
    "import time\n",
    "from pyspark.sql import SparkSession\n",
    "from pyspark.sql.types import StructType, StructField, StringType, FloatType, IntegerType, LongType, TimestampType\n",
    "from pyspark.sql.functions import udf\n",
    "from pyspark.sql import functions as F\n",
    "import re\n",
    "import string\n",
    "from pyspark.ml.feature import HashingTF, IDF, Tokenizer, StringIndexer\n",
    "from pyspark.ml.classification import LogisticRegression, RandomForestClassifier, NaiveBayes, LinearSVC\n",
    "from pyspark.ml import Pipeline, PipelineModel\n",
    "from pyspark.ml.evaluation import MulticlassClassificationEvaluator, BinaryClassificationEvaluator\n",
    "from pyspark.ml.tuning import CrossValidator, ParamGridBuilder\n",
    "\n",
    "import matplotlib.pyplot as plt\n",
    "# install TextBlob\n",
    "%pip install textblob\n",
    "# install nltk\n",
    "%pip install nltk\n",
    "from textblob import TextBlob\n",
    "import nltk\n",
    "from nltk.corpus import stopwords"
   ]
  },
  {
   "cell_type": "code",
   "execution_count": 0,
   "metadata": {
    "ExecuteTime": {
     "end_time": "2024-05-09T16:26:53.397747Z",
     "start_time": "2024-05-09T16:26:53.393500Z"
    },
    "application/vnd.databricks.v1+cell": {
     "cellMetadata": {
      "byteLimit": 2048000,
      "rowLimit": 10000
     },
     "inputWidgets": {},
     "nuid": "a5d23b35-dc62-4627-ae14-5bd15b0c6f27",
     "showTitle": false,
     "title": ""
    },
    "collapsed": false
   },
   "outputs": [],
   "source": [
    "# code source https://stackoverflow.com/questions/30461969/disable-default-certificate-verification-in-python-2-7-9\n",
    "\n",
    "import ssl\n",
    "ssl._create_default_https_context = ssl._create_unverified_context"
   ]
  },
  {
   "cell_type": "markdown",
   "metadata": {
    "application/vnd.databricks.v1+cell": {
     "cellMetadata": {
      "byteLimit": 2048000,
      "rowLimit": 10000
     },
     "inputWidgets": {},
     "nuid": "2f113ee1-5fc6-40d0-80c0-1b09b0051890",
     "showTitle": false,
     "title": ""
    },
    "collapsed": false
   },
   "source": [
    "### 1.Loading and preprocessing the data:"
   ]
  },
  {
   "cell_type": "markdown",
   "metadata": {
    "application/vnd.databricks.v1+cell": {
     "cellMetadata": {
      "byteLimit": 2048000,
      "rowLimit": 10000
     },
     "inputWidgets": {},
     "nuid": "64bfc248-d6df-43f0-813d-9bf4a59650e6",
     "showTitle": false,
     "title": ""
    },
    "collapsed": false
   },
   "source": [
    "#### 1.1 Use spark to read the data"
   ]
  },
  {
   "cell_type": "code",
   "execution_count": 0,
   "metadata": {
    "ExecuteTime": {
     "end_time": "2024-05-09T16:26:53.476782Z",
     "start_time": "2024-05-09T16:26:53.409832Z"
    },
    "application/vnd.databricks.v1+cell": {
     "cellMetadata": {
      "byteLimit": 2048000,
      "rowLimit": 10000
     },
     "inputWidgets": {},
     "nuid": "46dff69b-6897-4460-98cd-c8cfbf54c6c8",
     "showTitle": false,
     "title": ""
    }
   },
   "outputs": [],
   "source": [
    "# Reading data using spark\n",
    "spark = SparkSession.builder.appName('tweets_sentiment').getOrCreate()\n",
    "\n",
    "\n",
    "# Define the file format and column format in the csv, \n",
    "# direct reading will result in a lot of data being null\n",
    "schema = StructType([\n",
    "    StructField(\"created_at\", TimestampType(), True),\n",
    "    StructField(\"tweet_id\", StringType(), True),\n",
    "    StructField(\"tweet\", StringType(), True),\n",
    "    StructField(\"likes\", FloatType(), True),\n",
    "    StructField(\"retweet_count\", FloatType(), True),\n",
    "    StructField(\"source\", StringType(), True),\n",
    "    StructField(\"user_id\", StringType(), True),\n",
    "    StructField(\"user_name\", StringType(), True),\n",
    "    StructField(\"user_screen_name\", StringType(), True),\n",
    "    StructField(\"user_description\", StringType(), True),\n",
    "    StructField(\"user_join_date\", TimestampType(), True),\n",
    "    StructField(\"user_followers_count\", FloatType(), True),\n",
    "    StructField(\"user_location\", StringType(), True),\n",
    "    StructField(\"lat\", FloatType(), True),\n",
    "    StructField(\"long\", FloatType(), True),\n",
    "    StructField(\"city\", StringType(), True),\n",
    "    StructField(\"country\", StringType(), True),\n",
    "    StructField(\"continent\", StringType(), True),\n",
    "    StructField(\"state\", StringType(), True),\n",
    "    StructField(\"state_code\", StringType(), True),\n",
    "    StructField(\"collected_at\", TimestampType(), True)\n",
    "])\n",
    "df1 = spark.read \\\n",
    "    .option(\"header\", \"true\") \\\n",
    "    .option(\"multiline\", \"true\") \\\n",
    "    .option(\"quote\", \"\\\"\") \\\n",
    "    .option(\"escape\", \"\\\"\") \\\n",
    "    .option(\"dateFormat\", \"yyyy-MM-dd HH:mm:ss\") \\\n",
    "    .schema(schema) \\\n",
    "    .csv(\"/mnt/2024-team18/sample_donaldtrump.csv\") \n",
    "\n",
    "df2 = spark.read \\\n",
    "    .option(\"header\", \"true\") \\\n",
    "    .option(\"multiline\", \"true\") \\\n",
    "    .option(\"quote\", \"\\\"\") \\\n",
    "    .option(\"escape\", \"\\\"\") \\\n",
    "    .option(\"dateFormat\", \"yyyy-MM-dd HH:mm:ss\") \\\n",
    "    .schema(schema) \\\n",
    "    .csv(\"/mnt/2024-team18/sample_joebiden.csv\") "
   ]
  },
  {
   "cell_type": "code",
   "execution_count": 0,
   "metadata": {
    "ExecuteTime": {
     "end_time": "2024-05-09T16:26:53.719686Z",
     "start_time": "2024-05-09T16:26:53.479895Z"
    },
    "application/vnd.databricks.v1+cell": {
     "cellMetadata": {
      "byteLimit": 2048000,
      "rowLimit": 10000
     },
     "inputWidgets": {},
     "nuid": "2b994123-9d72-4279-8afd-c483c6d26b7b",
     "showTitle": false,
     "title": ""
    }
   },
   "outputs": [
    {
     "output_type": "execute_result",
     "data": {
      "text/plain": [
       "DataFrame[created_at: timestamp, tweet_id: string, tweet: string, likes: float, retweet_count: float, source: string, user_id: string, user_name: string, user_screen_name: string, user_description: string, user_join_date: timestamp, user_followers_count: float, user_location: string, lat: float, long: float, city: string, country: string, continent: string, state: string, state_code: string, collected_at: timestamp]"
      ]
     },
     "execution_count": 4,
     "metadata": {},
     "output_type": "execute_result"
    }
   ],
   "source": [
    "# covert to dataframe\n",
    "df1 = df1.toDF(*df1.columns)\n",
    "df2 = df2.toDF(*df2.columns)\n",
    "\n",
    "df1.cache()\n",
    "df2.cache()"
   ]
  },
  {
   "cell_type": "markdown",
   "metadata": {
    "application/vnd.databricks.v1+cell": {
     "cellMetadata": {
      "byteLimit": 2048000,
      "rowLimit": 10000
     },
     "inputWidgets": {},
     "nuid": "32aeade7-b443-4867-99a4-29a4b1da0f9e",
     "showTitle": false,
     "title": ""
    },
    "collapsed": false
   },
   "source": [
    "#### 1.2 Drop useless columns and drop rows with missing values"
   ]
  },
  {
   "cell_type": "code",
   "execution_count": 0,
   "metadata": {
    "ExecuteTime": {
     "end_time": "2024-05-09T16:26:53.741403Z",
     "start_time": "2024-05-09T16:26:53.722932Z"
    },
    "application/vnd.databricks.v1+cell": {
     "cellMetadata": {
      "byteLimit": 2048000,
      "rowLimit": 10000
     },
     "inputWidgets": {},
     "nuid": "07407fb4-0460-49de-9af4-66ac33d9de1f",
     "showTitle": false,
     "title": ""
    }
   },
   "outputs": [],
   "source": [
    "# Clean the data\n",
    "# Data preprocessing, removing useless columns and retaining eigenvalues\n",
    "# Column names to be removed\n",
    "drop_names = ['created_at', 'tweet_id', 'source', 'likes', 'retweet_count', 'user_followers_count', 'user_location', 'lat', 'long', 'city', 'user_id', 'user_name', 'user_screen_name', 'user_description', 'user_join_date', 'state_code', 'continent', 'collected_at']\n",
    "\n",
    "# drop useless columns\n",
    "df1 = df1.drop(*drop_names)\n",
    "df2 = df2.drop(*drop_names)\n",
    "\n",
    "# view missing values, \n",
    "# df1.select([F.count(F.when(F.col(c).isNull(), c)).alias(c) for c in df1.columns]).show()\n",
    "# df2.select([F.count(F.when(F.col(c).isNull(), c)).alias(c) for c in df2.columns]).show()"
   ]
  },
  {
   "cell_type": "code",
   "execution_count": 0,
   "metadata": {
    "ExecuteTime": {
     "end_time": "2024-05-09T16:26:53.757458Z",
     "start_time": "2024-05-09T16:26:53.743125Z"
    },
    "application/vnd.databricks.v1+cell": {
     "cellMetadata": {
      "byteLimit": 2048000,
      "rowLimit": 10000
     },
     "inputWidgets": {},
     "nuid": "2a765415-5dac-461c-9a46-dc184dad4afe",
     "showTitle": false,
     "title": ""
    },
    "collapsed": false
   },
   "outputs": [],
   "source": [
    "# drop na rows\n",
    "df1 = df1.dropna()\n",
    "df2 = df2.dropna()"
   ]
  },
  {
   "cell_type": "code",
   "execution_count": 0,
   "metadata": {
    "ExecuteTime": {
     "end_time": "2024-05-09T16:26:53.764277Z",
     "start_time": "2024-05-09T16:26:53.760880Z"
    },
    "application/vnd.databricks.v1+cell": {
     "cellMetadata": {
      "byteLimit": 2048000,
      "rowLimit": 10000
     },
     "inputWidgets": {},
     "nuid": "f31e9d08-65ad-4052-897c-f802ef2ff0ac",
     "showTitle": false,
     "title": ""
    },
    "collapsed": false
   },
   "outputs": [],
   "source": [
    "# # only use 10% of the data for testing\n",
    "# df1 = df1.sample(False, 0.1, seed=22)\n",
    "# df2 = df2.sample(False, 0.1, seed=22)"
   ]
  },
  {
   "cell_type": "markdown",
   "metadata": {
    "application/vnd.databricks.v1+cell": {
     "cellMetadata": {
      "byteLimit": 2048000,
      "rowLimit": 10000
     },
     "inputWidgets": {},
     "nuid": "6f63a751-cd7c-4181-b102-a73c1120fdfd",
     "showTitle": false,
     "title": ""
    },
    "collapsed": false
   },
   "source": [
    "#### 1.3 Clean up the content of tweets to reduce data noise"
   ]
  },
  {
   "cell_type": "code",
   "execution_count": 0,
   "metadata": {
    "ExecuteTime": {
     "end_time": "2024-05-09T16:26:53.776198Z",
     "start_time": "2024-05-09T16:26:53.766099Z"
    },
    "application/vnd.databricks.v1+cell": {
     "cellMetadata": {
      "byteLimit": 2048000,
      "rowLimit": 10000
     },
     "inputWidgets": {},
     "nuid": "7052a12f-17ef-4dd0-b70c-77092e126146",
     "showTitle": false,
     "title": ""
    }
   },
   "outputs": [
    {
     "output_type": "stream",
     "name": "stderr",
     "output_type": "stream",
     "text": [
      "[nltk_data] Downloading package stopwords to\n[nltk_data]     /home/spark-1de8568c-2eb1-4d4c-af66-5e/nltk_data...\n[nltk_data]   Unzipping corpora/stopwords.zip.\n"
     ]
    }
   ],
   "source": [
    "nltk.download('stopwords')\n",
    "\n",
    "stop_words = set(stopwords.words('english'))\n",
    "\n",
    "# def clean_text code source\n",
    "# https://stackoverflow.com/questions/24399820/expression-to-remove-url-links-from-twitter-tweet\n",
    "# https://stackoverflow.com/questions/34293875/how-to-remove-punctuation-marks-from-a-string-in-python-3-x-using-translate\n",
    "\n",
    "# clean tweets text\n",
    "def clean_text(tweet):\n",
    "    # to lower case\n",
    "    tweet = tweet.lower()\n",
    "    # remove http\n",
    "    tweet = re.sub(r'http\\S+|www\\S+|https\\S+', '', tweet, flags=re.MULTILINE)\n",
    "    # remove punctuation mark\n",
    "    tweet = tweet.translate(str.maketrans('', '', string.punctuation))\n",
    "    # remove number\n",
    "    tweet = re.sub(r'\\d+', '', tweet)\n",
    "    # remove strip\n",
    "    tweet = tweet.strip()\n",
    "    # remove emoji\n",
    "    tweet = re.sub(r'[^\\w\\s,]', '', tweet)\n",
    "    # remove stopping words\n",
    "    tweet = ' '.join([word for word in tweet.split() if word not in stop_words])\n",
    "    return tweet\n",
    "\n",
    "# def analyze_sentiment code source\n",
    "# https://github.com/explosion/spaCy/discussions/12401\n",
    "\n",
    "# use TextBlob get sentiment polarity\n",
    "def analyze_sentiment(tweet):\n",
    "    blob = TextBlob(tweet)\n",
    "    sentiment_score = blob.sentiment.polarity\n",
    "    if sentiment_score > 0.5:\n",
    "        return \"positive\"\n",
    "    elif sentiment_score < -0.5:\n",
    "        return \"negative\"\n",
    "    else:\n",
    "        return \"neutral\""
   ]
  },
  {
   "cell_type": "code",
   "execution_count": 0,
   "metadata": {
    "ExecuteTime": {
     "end_time": "2024-05-09T16:26:53.807755Z",
     "start_time": "2024-05-09T16:26:53.777969Z"
    },
    "application/vnd.databricks.v1+cell": {
     "cellMetadata": {
      "byteLimit": 2048000,
      "rowLimit": 10000
     },
     "inputWidgets": {},
     "nuid": "8d436cfc-e61f-4853-b605-57eac6534eef",
     "showTitle": false,
     "title": ""
    }
   },
   "outputs": [],
   "source": [
    "# clean tweets text\n",
    "udf_t = udf(clean_text, StringType())\n",
    "\n",
    "df1 = df1.withColumn(\"cleaned_tweet\", udf_t(df1[\"tweet\"]))\n",
    "df2 = df2.withColumn(\"cleaned_tweet\", udf_t(df2[\"tweet\"]))\n",
    "\n",
    "df1 = df1.drop('tweet')\n",
    "df2 = df2.drop('tweet')\n",
    "\n",
    "# # save cleaned data\n",
    "# df1.write.mode(\"overwrite\").csv(\"cleaned_donaldtrump.csv\")\n",
    "# df2.write.mode(\"overwrite\").csv(\"cleaned_joebiden.csv\")"
   ]
  },
  {
   "cell_type": "markdown",
   "metadata": {
    "application/vnd.databricks.v1+cell": {
     "cellMetadata": {
      "byteLimit": 2048000,
      "rowLimit": 10000
     },
     "inputWidgets": {},
     "nuid": "e6479a32-dfab-4529-b0ca-67f0b0b95d23",
     "showTitle": false,
     "title": ""
    },
    "collapsed": false
   },
   "source": [
    "#### 1.4 Using natural language processing and sentient analysis algorithms, classify tweets into different types of sentiments"
   ]
  },
  {
   "cell_type": "code",
   "execution_count": 0,
   "metadata": {
    "ExecuteTime": {
     "end_time": "2024-05-09T16:26:53.863062Z",
     "start_time": "2024-05-09T16:26:53.809323Z"
    },
    "application/vnd.databricks.v1+cell": {
     "cellMetadata": {
      "byteLimit": 2048000,
      "rowLimit": 10000
     },
     "inputWidgets": {},
     "nuid": "449058bd-539f-4a4e-9fe9-9cd6c9651fb1",
     "showTitle": false,
     "title": ""
    }
   },
   "outputs": [
    {
     "output_type": "execute_result",
     "data": {
      "text/plain": [
       "DataFrame[country: string, state: string, cleaned_tweet: string, sentiment: string, candidate: string]"
      ]
     },
     "execution_count": 10,
     "metadata": {},
     "output_type": "execute_result"
    }
   ],
   "source": [
    "# Creating a Sentiment Analysis UDF\n",
    "udf_s = F.udf(analyze_sentiment, StringType())\n",
    "\n",
    "# Convert df1 and df2 for sentiment analysis and add columns\n",
    "df1 = df1.withColumn('sentiment', udf_s(df1['cleaned_tweet'])).withColumn('candidate', F.lit('donaldtrump'))\n",
    "df2 = df2.withColumn('sentiment', udf_s(df2['cleaned_tweet'])).withColumn('candidate', F.lit('joebiden'))\n",
    "\n",
    "# merge df1 and df2\n",
    "df = df1.union(df2)\n",
    "\n",
    "# cache data\n",
    "df.cache()\n"
   ]
  },
  {
   "cell_type": "markdown",
   "metadata": {
    "application/vnd.databricks.v1+cell": {
     "cellMetadata": {
      "byteLimit": 2048000,
      "rowLimit": 10000
     },
     "inputWidgets": {},
     "nuid": "13b5cfb4-da8f-4012-9082-2b5e32237901",
     "showTitle": false,
     "title": ""
    },
    "collapsed": false
   },
   "source": [
    "### 2.Feature engineering:\n",
    "\n",
    "- Using TF-IDF for Feature Extraction of Text"
   ]
  },
  {
   "cell_type": "code",
   "execution_count": 0,
   "metadata": {
    "ExecuteTime": {
     "end_time": "2024-05-09T16:29:27.564265Z",
     "start_time": "2024-05-09T16:26:53.865469Z"
    },
    "application/vnd.databricks.v1+cell": {
     "cellMetadata": {
      "byteLimit": 2048000,
      "rowLimit": 10000
     },
     "inputWidgets": {},
     "nuid": "c386efa1-089b-456e-8b35-7e272c8f2766",
     "showTitle": false,
     "title": ""
    }
   },
   "outputs": [],
   "source": [
    "# Convert sentiment labels to numeric values\n",
    "indexer = StringIndexer(inputCol=\"sentiment\", outputCol=\"sentiment_index\")\n",
    "df = indexer.fit(df).transform(df)\n",
    "    \n",
    "# Create a splitter\n",
    "tokenizer = Tokenizer(inputCol=\"cleaned_tweet\", outputCol=\"words\")\n",
    "# Create feature hashers\n",
    "# Manually adjust the parameters many times to run the comparison results, \n",
    "# when numFeatures = 80000 , accuracy is high and running time is good \n",
    "hashingTF = HashingTF(inputCol=\"words\", outputCol=\"raw_features\", numFeatures=80000)\n",
    "# Create IDF\n",
    "idf_features = IDF(inputCol=\"raw_features\", outputCol=\"features\")\n"
   ]
  },
  {
   "cell_type": "code",
   "execution_count": 0,
   "metadata": {
    "ExecuteTime": {
     "end_time": "2024-05-09T16:29:27.598720Z",
     "start_time": "2024-05-09T16:29:27.566701Z"
    },
    "application/vnd.databricks.v1+cell": {
     "cellMetadata": {
      "byteLimit": 2048000,
      "rowLimit": 10000
     },
     "inputWidgets": {},
     "nuid": "d637970e-bd38-4314-9cae-d1a07044b328",
     "showTitle": false,
     "title": ""
    },
    "collapsed": false
   },
   "outputs": [],
   "source": [
    "SEED = 22\n",
    "# Split the dataset into training and test sets and increase the number of partitions in the training set\n",
    "train = df.randomSplit([0.8, 0.2], seed=SEED)[0].repartition(4).cache()\n",
    "test = df.randomSplit([0.8, 0.2], seed=SEED)[1].repartition(4)"
   ]
  },
  {
   "cell_type": "markdown",
   "metadata": {
    "application/vnd.databricks.v1+cell": {
     "cellMetadata": {
      "byteLimit": 2048000,
      "rowLimit": 10000
     },
     "inputWidgets": {},
     "nuid": "4baab872-ab1d-4fc2-9656-8ee17fa3ec9e",
     "showTitle": false,
     "title": ""
    },
    "collapsed": false
   },
   "source": [
    "### 3.Create a model and compare multiple model metrics"
   ]
  },
  {
   "cell_type": "markdown",
   "metadata": {
    "application/vnd.databricks.v1+cell": {
     "cellMetadata": {
      "byteLimit": 2048000,
      "rowLimit": 10000
     },
     "inputWidgets": {},
     "nuid": "b22e2bbf-8681-4884-95ce-d280f3bc4ece",
     "showTitle": false,
     "title": ""
    },
    "collapsed": false
   },
   "source": [
    "#### 3.1 Logistic Regression"
   ]
  },
  {
   "cell_type": "code",
   "execution_count": 0,
   "metadata": {
    "ExecuteTime": {
     "end_time": "2024-05-09T16:29:40.102854Z",
     "start_time": "2024-05-09T16:29:27.603740Z"
    },
    "application/vnd.databricks.v1+cell": {
     "cellMetadata": {
      "byteLimit": 2048000,
      "rowLimit": 10000
     },
     "inputWidgets": {},
     "nuid": "adeed97f-54bc-4a38-9b74-298bd7f2ab28",
     "showTitle": false,
     "title": ""
    }
   },
   "outputs": [
    {
     "output_type": "stream",
     "name": "stdout",
     "output_type": "stream",
     "text": [
      "Accuracy: 0.9405405405405406\nRecall: 0.9405405405405406\nF1 Score: 0.9303455028958464\nTime: 57.322437047958374\n"
     ]
    }
   ],
   "source": [
    "# start time\n",
    "start_time = time.time()\n",
    "\n",
    "# Define the logistic regression classifier\n",
    "lr = LogisticRegression(labelCol=\"sentiment_index\", featuresCol=\"features\", maxIter=50, regParam=0.01)\n",
    "\n",
    "# Create Pipeline\n",
    "pipeline_lr = Pipeline(stages=[ tokenizer, hashingTF, idf_features, lr])\n",
    "\n",
    "# # grid search and cross validation\n",
    "# paramGrid = ParamGridBuilder() \\\n",
    "#     .addGrid(lr.maxIter, [10, 50, 100]) \\\n",
    "#     .addGrid(lr.regParam, [0.01, 0.1, 0.5]) \\\n",
    "#     .build()\n",
    "# evaluator = MulticlassClassificationEvaluator(labelCol=\"sentiment_index\", predictionCol=\"prediction\", metricName=\"accuracy\")\n",
    "# crossval = CrossValidator(estimator=pipeline_lr,\n",
    "#                           estimatorParamMaps=paramGrid,\n",
    "#                           evaluator=evaluator,\n",
    "#                           numFolds=3)\n",
    "# cvModel = crossval.fit(train)\n",
    "# predictions = cvModel.transform(test)\n",
    "# accuracy_lr = evaluator.evaluate(predictions)\n",
    "# print(\"Accuracy: \" + str(accuracy_lr))\n",
    "# # print best model param\n",
    "# bestModel_lr = cvModel.bestModel\n",
    "# print(\"Best Param (regParam): \", bestModel_lr.stages[-1]._java_obj.getRegParam())\n",
    "# print(\"Best Param (maxIter): \", bestModel_lr.stages[-1]._java_obj.getMaxIter())\n",
    "\n",
    "evaluator = MulticlassClassificationEvaluator(labelCol=\"sentiment_index\", predictionCol=\"prediction\", metricName=\"accuracy\")\n",
    "\n",
    "model_lr = pipeline_lr.fit(train)\n",
    "predictions = model_lr.transform(test)\n",
    "\n",
    "accuracy_lr = evaluator.evaluate(predictions)\n",
    "print(\"Accuracy: \" + str(accuracy_lr))\n",
    "\n",
    "recall_lr = MulticlassClassificationEvaluator(labelCol=\"sentiment_index\", predictionCol=\"prediction\", metricName=\"weightedRecall\")\n",
    "recall_score_lr = recall_lr.evaluate(predictions)\n",
    "print(\"Recall:\", recall_score_lr)\n",
    "\n",
    "f1_lr = MulticlassClassificationEvaluator(labelCol=\"sentiment_index\", predictionCol=\"prediction\", metricName=\"f1\")\n",
    "f1_score_lr = f1_lr.evaluate(predictions)\n",
    "print(\"F1 Score:\", f1_score_lr)\n",
    "\n",
    "\n",
    "# end time\n",
    "end_time = time.time()\n",
    "runtime_lr = end_time - start_time\n",
    "print(\"Time:\", runtime_lr)\n",
    "\n",
    "# # Load Model\n",
    "#model_lr = PipelineModel.load(\"/mnt/2024-team18/tsa_logistic_regression_model_V1\")\n",
    "\n",
    "# Save Model\n",
    "# model_lr.write().overwrite().save(\"/mnt/2024-team18/tsa_logistic_regression_model_V1\")"
   ]
  },
  {
   "cell_type": "markdown",
   "metadata": {
    "application/vnd.databricks.v1+cell": {
     "cellMetadata": {
      "byteLimit": 2048000,
      "rowLimit": 10000
     },
     "inputWidgets": {},
     "nuid": "ecd99d7d-8213-45de-b1d0-a0a9ab71992e",
     "showTitle": false,
     "title": ""
    },
    "collapsed": false
   },
   "source": [
    "#### 3.2 Random Forest (Very long running time, not recommended)"
   ]
  },
  {
   "cell_type": "code",
   "execution_count": 0,
   "metadata": {
    "ExecuteTime": {
     "end_time": "2024-05-09T16:29:40.114297Z",
     "start_time": "2024-05-09T16:29:40.106992Z"
    },
    "application/vnd.databricks.v1+cell": {
     "cellMetadata": {
      "byteLimit": 2048000,
      "rowLimit": 10000
     },
     "inputWidgets": {},
     "nuid": "73d6d6dc-e369-44d6-9fe1-d06a25e121a0",
     "showTitle": false,
     "title": ""
    },
    "collapsed": false
   },
   "outputs": [
    {
     "output_type": "stream",
     "name": "stdout",
     "output_type": "stream",
     "text": [
      "Accuracy: 0.9292149292149292\nRecall: 0.9292149292149292\nF1 Score: 0.8951209858481374\nTime: 301.83826661109924\n"
     ]
    }
   ],
   "source": [
    "start_time = time.time()\n",
    "\n",
    "rf = RandomForestClassifier(labelCol=\"sentiment_index\", featuresCol=\"features\", numTrees=80, maxDepth=10)\n",
    "\n",
    "pipeline_rf = Pipeline(stages=[tokenizer, hashingTF, idf_features, rf])\n",
    "\n",
    "# paramGrid = ParamGridBuilder() \\\n",
    "#     .addGrid(rf.numTrees, [10, 20, 30]) \\\n",
    "#     .addGrid(rf.maxDepth, [5, 10, 15]) \\\n",
    "#     .build()\n",
    "# evaluator = MulticlassClassificationEvaluator(labelCol=\"sentiment_index\", predictionCol=\"prediction\", metricName=\"accuracy\")\n",
    "# crossval = CrossValidator(estimator=pipeline_rf,\n",
    "#                           estimatorParamMaps=paramGrid,\n",
    "#                           evaluator=evaluator,\n",
    "#                           numFolds=3)\n",
    "# cvModel = crossval.fit(train)\n",
    "# predictions = cvModel.transform(test)\n",
    "# accuracy_rf = evaluator.evaluate(predictions)\n",
    "# print(\"Accuracy: \" + str(accuracy_rf))\n",
    "# # print best model param\n",
    "# bestModel_rf = cvModel.bestModel\n",
    "# print(\"Best Param (numTrees): \", bestModel_rf.stages[-1]._java_obj.getNumTrees())\n",
    "# print(\"Best Param (maxDepth): \", bestModel_rf.stages[-1]._java_obj.getMaxDepth())\n",
    "\n",
    "model_rf = pipeline_rf.fit(train)\n",
    "predictions = model_rf.transform(test)\n",
    "evaluator = MulticlassClassificationEvaluator(labelCol=\"sentiment_index\", predictionCol=\"prediction\", metricName=\"accuracy\")\n",
    "accuracy_rf = evaluator.evaluate(predictions)\n",
    "print(\"Accuracy: \" + str(accuracy_rf))\n",
    "\n",
    "recall_rf = MulticlassClassificationEvaluator(labelCol=\"sentiment_index\", predictionCol=\"prediction\", metricName=\"weightedRecall\")\n",
    "recall_score_rf = recall_rf.evaluate(predictions)\n",
    "print(\"Recall:\", recall_score_rf)\n",
    "\n",
    "f1_rf = MulticlassClassificationEvaluator(labelCol=\"sentiment_index\", predictionCol=\"prediction\", metricName=\"f1\")\n",
    "f1_score_rf = f1_rf.evaluate(predictions)\n",
    "print(\"F1 Score:\", f1_score_rf)\n",
    "\n",
    "end_time = time.time()\n",
    "runtime_rf = end_time - start_time\n",
    "print(\"Time:\", runtime_rf)"
   ]
  },
  {
   "cell_type": "markdown",
   "metadata": {
    "application/vnd.databricks.v1+cell": {
     "cellMetadata": {
      "byteLimit": 2048000,
      "rowLimit": 10000
     },
     "inputWidgets": {},
     "nuid": "59cd3a3f-42b3-4781-84d8-a9c497e4b5ac",
     "showTitle": false,
     "title": ""
    },
    "collapsed": false
   },
   "source": [
    "#### 3.3 SVM-OneVsRest"
   ]
  },
  {
   "cell_type": "code",
   "execution_count": 0,
   "metadata": {
    "ExecuteTime": {
     "end_time": "2024-05-09T16:29:54.407379Z",
     "start_time": "2024-05-09T16:29:40.117831Z"
    },
    "application/vnd.databricks.v1+cell": {
     "cellMetadata": {
      "byteLimit": 2048000,
      "rowLimit": 10000
     },
     "inputWidgets": {},
     "nuid": "0ed10b70-c06a-4766-99bb-eb888392f700",
     "showTitle": false,
     "title": ""
    },
    "collapsed": false
   },
   "outputs": [
    {
     "output_type": "stream",
     "name": "stdout",
     "output_type": "stream",
     "text": [
      "Accuracy: 0.9312741312741313\nRecall: 0.9312741312741313\nF1 Score: 0.9148246704955151\nTime: 140.84813475608826\n"
     ]
    }
   ],
   "source": [
    "from pyspark.ml.classification import OneVsRest\n",
    "\n",
    "start_time = time.time()\n",
    "\n",
    "svm = LinearSVC(maxIter=10, regParam=0.1)\n",
    "\n",
    "# create OneVsRest \n",
    "ovr = OneVsRest(classifier=svm, labelCol=\"sentiment_index\", featuresCol=\"features\")\n",
    "\n",
    "# create pipeline\n",
    "pipeline = Pipeline(stages=[tokenizer, hashingTF, idf_features, ovr])\n",
    "\n",
    "bestModel_svm = pipeline.fit(train)\n",
    "\n",
    "# predictions\n",
    "predictions = bestModel_svm.transform(test)\n",
    "\n",
    "# accuracy\n",
    "evaluator = MulticlassClassificationEvaluator(labelCol=\"sentiment_index\", predictionCol=\"prediction\", metricName=\"accuracy\")\n",
    "accuracy_svm = evaluator.evaluate(predictions)\n",
    "print(\"Accuracy: \" + str(accuracy_svm))\n",
    "\n",
    "recall_svm = MulticlassClassificationEvaluator(labelCol=\"sentiment_index\", predictionCol=\"prediction\", metricName=\"weightedRecall\")\n",
    "recall_score_svm = recall_svm.evaluate(predictions)\n",
    "print(\"Recall:\", recall_score_svm)\n",
    "\n",
    "f1_svm = MulticlassClassificationEvaluator(labelCol=\"sentiment_index\", predictionCol=\"prediction\", metricName=\"f1\")\n",
    "f1_score_svm = f1_svm.evaluate(predictions)\n",
    "print(\"F1 Score:\", f1_score_svm)\n",
    "\n",
    "end_time = time.time()\n",
    "runtime_svm = end_time - start_time\n",
    "print(\"Time:\", runtime_svm)"
   ]
  },
  {
   "cell_type": "markdown",
   "metadata": {
    "application/vnd.databricks.v1+cell": {
     "cellMetadata": {
      "byteLimit": 2048000,
      "rowLimit": 10000
     },
     "inputWidgets": {},
     "nuid": "acc02d77-f6c8-4c75-9690-2d044922acfc",
     "showTitle": false,
     "title": ""
    },
    "collapsed": false
   },
   "source": [
    "#### 3.4 Naive Bayes"
   ]
  },
  {
   "cell_type": "code",
   "execution_count": 0,
   "metadata": {
    "ExecuteTime": {
     "end_time": "2024-05-09T16:29:57.333546Z",
     "start_time": "2024-05-09T16:29:54.410543Z"
    },
    "application/vnd.databricks.v1+cell": {
     "cellMetadata": {
      "byteLimit": 2048000,
      "rowLimit": 10000
     },
     "inputWidgets": {},
     "nuid": "cb9cc720-c097-408a-a318-219cba5bdab7",
     "showTitle": false,
     "title": ""
    },
    "collapsed": false
   },
   "outputs": [
    {
     "output_type": "stream",
     "name": "stdout",
     "output_type": "stream",
     "text": [
      "Accuracy: 0.8015444015444015\nRecall: 0.8015444015444015\nF1 Score: 0.8434892134307804\nTime: 44.14728903770447\n"
     ]
    }
   ],
   "source": [
    "start_time = time.time()\n",
    "\n",
    "nb = NaiveBayes(labelCol=\"sentiment_index\", featuresCol=\"features\")\n",
    "\n",
    "pipeline_nb = Pipeline(stages=[tokenizer, hashingTF, idf_features, nb])\n",
    "\n",
    "# paramGrid = ParamGridBuilder() \\\n",
    "#     .addGrid(nb.smoothing, [0.0, 0.2, 0.4]) \\\n",
    "#     .build()\n",
    "# \n",
    "# evaluator = MulticlassClassificationEvaluator(labelCol=\"sentiment_index\", predictionCol=\"prediction\", metricName=\"accuracy\")\n",
    "# \n",
    "# crossval = CrossValidator(estimator=pipeline_nb,\n",
    "#                           estimatorParamMaps=paramGrid,\n",
    "#                           evaluator=evaluator,\n",
    "#                           numFolds=3)\n",
    "# \n",
    "# cvModel = crossval.fit(train)\n",
    "# \n",
    "# predictions = cvModel.transform(test)\n",
    "# accuracy_nb = evaluator.evaluate(predictions)\n",
    "# print(\"Test set accuracy = \" + str(accuracy_nb))\n",
    "# # print best model param\n",
    "# bestModel_nb = cvModel.bestModel\n",
    "# print(\"Best Param (smoothing): \", bestModel_nb.stages[-1]._java_obj.getSmoothing())\n",
    "\n",
    "model_nb = pipeline_nb.fit(train)\n",
    "predictions = model_nb.transform(test)\n",
    "evaluator = MulticlassClassificationEvaluator(labelCol=\"sentiment_index\", predictionCol=\"prediction\", metricName=\"accuracy\")\n",
    "accuracy_nb = evaluator.evaluate(predictions)\n",
    "print(\"Accuracy: \" + str(accuracy_nb))\n",
    "\n",
    "recall_nb = MulticlassClassificationEvaluator(labelCol=\"sentiment_index\", predictionCol=\"prediction\", metricName=\"weightedRecall\")\n",
    "recall_score_nb = recall_nb.evaluate(predictions)\n",
    "print(\"Recall:\", recall_score_nb)\n",
    "\n",
    "f1_nb = MulticlassClassificationEvaluator(labelCol=\"sentiment_index\", predictionCol=\"prediction\", metricName=\"f1\")\n",
    "f1_score_nb = f1_nb.evaluate(predictions)\n",
    "print(\"F1 Score:\", f1_score_nb)\n",
    "\n",
    "end_time = time.time()\n",
    "runtime_nb = end_time - start_time\n",
    "print(\"Time:\", runtime_nb)"
   ]
  },
  {
   "cell_type": "markdown",
   "metadata": {
    "application/vnd.databricks.v1+cell": {
     "cellMetadata": {
      "byteLimit": 2048000,
      "rowLimit": 10000
     },
     "inputWidgets": {},
     "nuid": "7b13a53e-9f00-4323-8d25-61c964e66d6c",
     "showTitle": false,
     "title": ""
    },
    "collapsed": false
   },
   "source": [
    "#### 3.5 Model comparison"
   ]
  },
  {
   "cell_type": "code",
   "execution_count": 0,
   "metadata": {
    "ExecuteTime": {
     "end_time": "2024-05-09T16:30:15.201155Z",
     "start_time": "2024-05-09T16:30:13.862780Z"
    },
    "application/vnd.databricks.v1+cell": {
     "cellMetadata": {
      "byteLimit": 2048000,
      "rowLimit": 10000
     },
     "inputWidgets": {},
     "nuid": "51d19dca-d1bf-4e24-9909-d672b8f4381d",
     "showTitle": false,
     "title": ""
    },
    "collapsed": false
   },
   "outputs": [
    {
     "output_type": "stream",
     "name": "stdout",
     "output_type": "stream",
     "text": [
      "Logistic Regression: Accuracy:  0.9405405405405406 Runtime:  57.322437047958374 Recall:  0.9405405405405406 F1 Score:  0.9303455028958464\nSVM-OneVsRest: Accuracy:  0.9312741312741313 Runtime:  140.84813475608826 Recall:  0.9312741312741313 F1 Score:  0.9148246704955151\nNaive Bayes: Accuracy:  0.8015444015444015 Runtime:  44.14728903770447 Recall:  0.8015444015444015 F1 Score:  0.8434892134307804\nRandom Forest: Accuracy:  0.9292149292149292 Runtime:  301.83826661109924 Recall:  0.9292149292149292 F1 Score:  0.8951209858481374\n"
     ]
    },
    {
     "output_type": "display_data",
     "data": {
      "image/png": "[encoded data removed]",
      "text/plain": [
       "<Figure size 800x600 with 1 Axes>"
      ]
     },
     "metadata": {},
     "output_type": "display_data"
    },
    {
     "output_type": "display_data",
     "data": {
      "image/png": "[encoded data removed]",
      "text/plain": [
       "<Figure size 800x600 with 1 Axes>"
      ]
     },
     "metadata": {},
     "output_type": "display_data"
    }
   ],
   "source": [
    "# Compare different models\n",
    "# show runtime and accuracy and  recall and f1 score of each model\n",
    "print(\"Logistic Regression: Accuracy: \", accuracy_lr, \"Runtime: \", runtime_lr, \"Recall: \", recall_score_lr, \"F1 Score: \", f1_score_lr)\n",
    "print(\"SVM-OneVsRest: Accuracy: \", accuracy_svm, \"Runtime: \", runtime_svm, \"Recall: \", recall_score_svm, \"F1 Score: \", f1_score_svm)\n",
    "print(\"Naive Bayes: Accuracy: \", accuracy_nb, \"Runtime: \", runtime_nb, \"Recall: \", recall_score_nb, \"F1 Score: \", f1_score_nb)\n",
    "print(\"Random Forest: Accuracy: \", accuracy_rf, \"Runtime: \", runtime_rf, \"Recall: \", recall_score_rf, \"F1 Score: \", f1_score_rf)\n",
    "\n",
    "# plot\n",
    "models = ['Random Forest', 'Logistic Regression', 'SVM-OneVsRest', 'Naive Bayes']\n",
    "accuracy = [accuracy_rf, accuracy_lr, accuracy_svm, accuracy_nb]\n",
    "runtime = [runtime_rf, runtime_lr, runtime_svm, runtime_nb]\n",
    "\n",
    "\n",
    "bar_width = 0.6\n",
    "# plot runtime bar chart\n",
    "plt.figure(figsize=(8, 6))\n",
    "plt.bar(models, runtime, color='skyblue', width=bar_width)\n",
    "plt.title('Running time of each algorithm (10% data)')\n",
    "plt.xlabel('Algorithm')\n",
    "plt.ylabel('Runtime (seconds)')\n",
    "plt.xticks(rotation=45)\n",
    "plt.tight_layout()\n",
    "plt.show()\n",
    "\n",
    "# plot accuracy bar chart\n",
    "plt.figure(figsize=(8, 6))\n",
    "plt.bar(models, accuracy, color='salmon', width=bar_width)\n",
    "plt.title('Accuracy of each algorithm (10% data)')\n",
    "plt.xlabel('Algorithm')\n",
    "plt.ylabel('Accuracy')\n",
    "plt.xticks(rotation=45)\n",
    "plt.tight_layout()\n",
    "plt.ylim(0.7, 1)\n",
    "plt.show()\n"
   ]
  },
  {
   "cell_type": "markdown",
   "metadata": {
    "application/vnd.databricks.v1+cell": {
     "cellMetadata": {
      "byteLimit": 2048000,
      "rowLimit": 10000
     },
     "inputWidgets": {},
     "nuid": "08c93b1d-3bb5-4a0b-8bc8-895af5f938c0",
     "showTitle": false,
     "title": ""
    }
   },
   "source": [
    "#### 3.6 Scalability of Logistic Regression(Long execution time, only releasing comments during testing)"
   ]
  },
  {
   "cell_type": "code",
   "execution_count": 0,
   "metadata": {
    "application/vnd.databricks.v1+cell": {
     "cellMetadata": {
      "byteLimit": 2048000,
      "rowLimit": 10000
     },
     "inputWidgets": {},
     "nuid": "f7d753f2-26a7-45a0-bcb9-ed4443ea9c99",
     "showTitle": false,
     "title": ""
    }
   },
   "outputs": [],
   "source": [
    "# spark = SparkSession.builder.appName('tweets_sentiment_test00001x_V1').getOrCreate()\n",
    "# nltk.download('stopwords')"
   ]
  },
  {
   "cell_type": "code",
   "execution_count": 0,
   "metadata": {
    "application/vnd.databricks.v1+cell": {
     "cellMetadata": {
      "byteLimit": 2048000,
      "rowLimit": 10000
     },
     "inputWidgets": {},
     "nuid": "e17713c8-9783-49c1-9eef-1ad6cb4a0333",
     "showTitle": false,
     "title": ""
    }
   },
   "outputs": [],
   "source": [
    "# def df_process(percentage):\n",
    "#     # Reading data using spark\n",
    "    \n",
    "#     # Define the file format and column format in the csv, \n",
    "#     # direct reading will result in a lot of data being null\n",
    "#     schema = StructType([\n",
    "#         StructField(\"created_at\", TimestampType(), True),\n",
    "#         StructField(\"tweet_id\", StringType(), True),\n",
    "#         StructField(\"tweet\", StringType(), True),\n",
    "#         StructField(\"likes\", FloatType(), True),\n",
    "#         StructField(\"retweet_count\", FloatType(), True),\n",
    "#         StructField(\"source\", StringType(), True),\n",
    "#         StructField(\"user_id\", StringType(), True),\n",
    "#         StructField(\"user_name\", StringType(), True),\n",
    "#         StructField(\"user_screen_name\", StringType(), True),\n",
    "#         StructField(\"user_description\", StringType(), True),\n",
    "#         StructField(\"user_join_date\", TimestampType(), True),\n",
    "#         StructField(\"user_followers_count\", FloatType(), True),\n",
    "#         StructField(\"user_location\", StringType(), True),\n",
    "#         StructField(\"lat\", FloatType(), True),\n",
    "#         StructField(\"long\", FloatType(), True),\n",
    "#         StructField(\"city\", StringType(), True),\n",
    "#         StructField(\"country\", StringType(), True),\n",
    "#         StructField(\"continent\", StringType(), True),\n",
    "#         StructField(\"state\", StringType(), True),\n",
    "#         StructField(\"state_code\", StringType(), True),\n",
    "#         StructField(\"collected_at\", TimestampType(), True)\n",
    "#     ])\n",
    "#     df1 = spark.read \\\n",
    "#         .option(\"header\", \"true\") \\\n",
    "#         .option(\"multiline\", \"true\") \\\n",
    "#         .option(\"quote\", \"\\\"\") \\\n",
    "#         .option(\"escape\", \"\\\"\") \\\n",
    "#         .option(\"dateFormat\", \"yyyy-MM-dd HH:mm:ss\") \\\n",
    "#         .schema(schema) \\\n",
    "#         .csv(\"/mnt/2024-team18/sample_donaldtrump.csv\") \n",
    "    \n",
    "#     df2 = spark.read \\\n",
    "#         .option(\"header\", \"true\") \\\n",
    "#         .option(\"multiline\", \"true\") \\\n",
    "#         .option(\"quote\", \"\\\"\") \\\n",
    "#         .option(\"escape\", \"\\\"\") \\\n",
    "#         .option(\"dateFormat\", \"yyyy-MM-dd HH:mm:ss\") \\\n",
    "#         .schema(schema) \\\n",
    "#         .csv(\"/mnt/2024-team18/sample_joebiden.csv\") \n",
    "#     # Parallel conversion to DataFrame\n",
    "#     df1 = spark.createDataFrame(df1.rdd, schema)\n",
    "#     df2 = spark.createDataFrame(df2.rdd, schema)\n",
    "    \n",
    "#     df1 = df1.sample(False, percentage, seed=22)\n",
    "#     df2 = df2.sample(False, percentage, seed=22)\n",
    "    \n",
    "#     df1.cache()\n",
    "#     df2.cache()\n",
    "#     drop_names = ['created_at', 'tweet_id', 'source', 'likes', 'retweet_count', 'user_followers_count', 'user_location', 'lat', 'long', 'city', 'user_id', 'user_name', 'user_screen_name', 'user_description', 'user_join_date', 'state_code', 'continent', 'collected_at']\n",
    "    \n",
    "#     # drop useless columns\n",
    "#     df1 = df1.drop(*drop_names)\n",
    "#     df2 = df2.drop(*drop_names)\n",
    "    \n",
    "#     # drop na rows\n",
    "#     df1 = df1.dropna()\n",
    "#     df2 = df2.dropna()\n",
    "\n",
    "\n",
    "#     stop_words = set(stopwords.words('english'))\n",
    "    \n",
    "#     # clean tweets text\n",
    "#     def clean_text(tweet):\n",
    "#         # to lower case\n",
    "#         tweet = tweet.lower()\n",
    "#         # remove http\n",
    "#         tweet = re.sub(r'http\\S+|www\\S+|https\\S+', '', tweet, flags=re.MULTILINE)\n",
    "#         # remove punctuation mark\n",
    "#         tweet = tweet.translate(str.maketrans('', '', string.punctuation))\n",
    "#         # remove number\n",
    "#         tweet = re.sub(r'\\d+', '', tweet)\n",
    "#         # remove strip\n",
    "#         tweet = tweet.strip()\n",
    "#         # remove emoji\n",
    "#         tweet = re.sub(r'[^\\w\\s,]', '', tweet)\n",
    "#         # remove stopping words\n",
    "#         tweet = ' '.join([word for word in tweet.split() if word not in stop_words])\n",
    "#         return tweet\n",
    "    \n",
    "#     # use TextBlob get sentiment polarity\n",
    "#     def analyze_sentiment(tweet):\n",
    "#         blob = TextBlob(tweet)\n",
    "#         sentiment_score = blob.sentiment.polarity\n",
    "#         if sentiment_score > 0.5:\n",
    "#             return \"positive\"\n",
    "#         elif sentiment_score < -0.5:\n",
    "#             return \"negative\"\n",
    "#         else:\n",
    "#             return \"neutral\"\n",
    "        \n",
    "#     # clean tweets text\n",
    "#     udf_t = udf(clean_text, StringType())\n",
    "    \n",
    "#     df1 = df1.withColumn(\"cleaned_tweet\", udf_t(df1[\"tweet\"]))\n",
    "#     df2 = df2.withColumn(\"cleaned_tweet\", udf_t(df2[\"tweet\"]))\n",
    "    \n",
    "#     df1 = df1.drop('tweet')\n",
    "#     df2 = df2.drop('tweet')\n",
    "    \n",
    "#     # Creating a Sentiment Analysis UDF\n",
    "#     udf_s = F.udf(analyze_sentiment, StringType())\n",
    "    \n",
    "#     # Convert df1 and df2 for sentiment analysis and add columns\n",
    "#     df1 = df1.withColumn('sentiment', udf_s(df1['cleaned_tweet'])).withColumn('candidate', F.lit('donaldtrump'))\n",
    "#     df2 = df2.withColumn('sentiment', udf_s(df2['cleaned_tweet'])).withColumn('candidate', F.lit('joebiden'))\n",
    "    \n",
    "#     # merge df1 and df2\n",
    "#     df = df1.union(df2)\n",
    "    \n",
    "#     # cache data\n",
    "#     df.cache()\n",
    "    \n",
    "#     # Convert sentiment labels to numeric values\n",
    "#     indexer = StringIndexer(inputCol=\"sentiment\", outputCol=\"sentiment_index\")\n",
    "#     df = indexer.fit(df).transform(df)\n",
    "        \n",
    "#     # Create a splitter\n",
    "#     tokenizer = Tokenizer(inputCol=\"cleaned_tweet\", outputCol=\"words\")\n",
    "#     # Create feature hashers\n",
    "#     # Manually adjust the parameters many times to run the comparison results, \n",
    "#     # when numFeatures = 80000 , accuracy is high and running time is good \n",
    "#     hashingTF = HashingTF(inputCol=\"words\", outputCol=\"raw_features\", numFeatures=80000)\n",
    "#     # Create IDF\n",
    "#     idf_features = IDF(inputCol=\"raw_features\", outputCol=\"features\")\n",
    "    \n",
    "#     return df,tokenizer, hashingTF, idf_features\n"
   ]
  },
  {
   "cell_type": "code",
   "execution_count": 0,
   "metadata": {
    "application/vnd.databricks.v1+cell": {
     "cellMetadata": {
      "byteLimit": 2048000,
      "rowLimit": 10000
     },
     "inputWidgets": {},
     "nuid": "a6c2bb20-eda6-4065-81e1-d8f68405319d",
     "showTitle": false,
     "title": ""
    }
   },
   "outputs": [],
   "source": [
    "# # Logistic Regression\n",
    "# running_time = []\n",
    "\n",
    "# # Use for each to get different data sizes()df to test the scalability of Logistic Regression\n",
    "# def logistic_regression(percentage):\n",
    "#     start_time = time.time()\n",
    "#     df, tokenizer, hashingTF, idf_features = df_process(percentage)\n",
    "\n",
    "#     # Split the dataset into training and test sets and increase the number of partitions in the training set\n",
    "#     train = df.randomSplit([0.8, 0.2], seed=22)[0].repartition(4).cache()\n",
    "#     test = df.randomSplit([0.8, 0.2], seed=22)[1].repartition(4)\n",
    "\n",
    "#     lr = LogisticRegression(labelCol=\"sentiment_index\", featuresCol=\"features\", maxIter=50, regParam=0.01)\n",
    "\n",
    "#     # Create Pipeline\n",
    "#     pipeline_lr = Pipeline(stages=[ tokenizer, hashingTF, idf_features, lr])\n",
    "#     model_lr = pipeline_lr.fit(train)\n",
    "#     predictions = model_lr.transform(test)\n",
    "    \n",
    "#     end_time = time.time()\n",
    "#     runtime_lr = end_time - start_time\n",
    "#     running_time.append(runtime_lr)\n",
    "    \n",
    "# for i in range(1, 11):\n",
    "#     logistic_regression(i*0.1)\n",
    "#     print(\"Data size: \", i*10, \"%\")\n",
    "#     print(\"Running time: \", running_time[-1])\n",
    "#     print(\"=====================================\")\n",
    "\n",
    "# # plot\n",
    "# plt.figure(figsize=(8, 6))\n",
    "# plt.plot(range(10, 101, 10), running_time, marker='o', color='skyblue')\n",
    "# plt.title('Scalability of Logistic Regression')\n",
    "# plt.xlabel('Data size (%)')\n",
    "# plt.ylabel('Running time (seconds)')\n",
    "# plt.xticks(range(10, 101, 10))\n",
    "# plt.yticks(range(10,100, 10))\n",
    "# plt.tight_layout()\n",
    "# plt.show()\n"
   ]
  },
  {
   "cell_type": "markdown",
   "metadata": {
    "application/vnd.databricks.v1+cell": {
     "cellMetadata": {
      "byteLimit": 2048000,
      "rowLimit": 10000
     },
     "inputWidgets": {},
     "nuid": "01a92a5c-4ede-4466-830d-b90ec0f7e5b5",
     "showTitle": false,
     "title": ""
    },
    "collapsed": false
   },
   "source": [
    "### 4.Prediction on the test set"
   ]
  },
  {
   "cell_type": "code",
   "execution_count": 0,
   "metadata": {
    "ExecuteTime": {
     "end_time": "2024-05-09T16:30:23.914401Z",
     "start_time": "2024-05-09T16:30:23.229172Z"
    },
    "application/vnd.databricks.v1+cell": {
     "cellMetadata": {
      "byteLimit": 2048000,
      "rowLimit": 10000
     },
     "inputWidgets": {},
     "nuid": "7637a6e0-ed25-41a5-9763-1984a6ad47c9",
     "showTitle": false,
     "title": ""
    }
   },
   "outputs": [
    {
     "output_type": "execute_result",
     "data": {
      "text/plain": [
       "DataFrame[sentiment_index: double, prediction: double]"
      ]
     },
     "execution_count": 21,
     "metadata": {},
     "output_type": "execute_result"
    }
   ],
   "source": [
    "# Apply logic regression model to test set\n",
    "predictions_lr = model_lr.transform(test)\n",
    "predictions_lr = predictions_lr.select(F.col(\"sentiment_index\"), F.col(\"prediction\"))\n",
    "predictions_lr = predictions_lr.repartition(4)\n",
    "predictions_lr.cache()"
   ]
  },
  {
   "cell_type": "code",
   "execution_count": 0,
   "metadata": {
    "application/vnd.databricks.v1+cell": {
     "cellMetadata": {
      "byteLimit": 2048000,
      "rowLimit": 10000
     },
     "inputWidgets": {},
     "nuid": "10cdca07-c02d-46f5-8749-31a8c2a69b60",
     "showTitle": false,
     "title": ""
    }
   },
   "outputs": [
    {
     "output_type": "stream",
     "name": "stdout",
     "output_type": "stream",
     "text": [
      "Accuracy: 0.9405405405405406\nRecall: 0.9405405405405406\nF1 Score: 0.9303455028958464\n"
     ]
    }
   ],
   "source": [
    "accuracy = MulticlassClassificationEvaluator(labelCol=\"sentiment_index\", predictionCol=\"prediction\", metricName=\"accuracy\")\n",
    "accuracy_score = accuracy.evaluate(predictions_lr)\n",
    "print(\"Accuracy:\", accuracy_score)\n",
    "\n",
    "recall = MulticlassClassificationEvaluator(labelCol=\"sentiment_index\", predictionCol=\"prediction\", metricName=\"weightedRecall\")\n",
    "recall_score = recall.evaluate(predictions_lr)\n",
    "print(\"Recall:\", recall_score)\n",
    "\n",
    "f1 = MulticlassClassificationEvaluator(labelCol=\"sentiment_index\", predictionCol=\"prediction\", metricName=\"f1\")\n",
    "f1_score = f1.evaluate(predictions_lr)\n",
    "print(\"F1 Score:\", f1_score)"
   ]
  },
  {
   "cell_type": "code",
   "execution_count": 0,
   "metadata": {
    "ExecuteTime": {
     "end_time": "2024-05-09T16:30:25.893712Z",
     "start_time": "2024-05-09T16:30:25.750018Z"
    },
    "application/vnd.databricks.v1+cell": {
     "cellMetadata": {
      "byteLimit": 2048000,
      "rowLimit": 10000
     },
     "inputWidgets": {},
     "nuid": "82bc9842-47df-403c-8cdc-560b8792cd93",
     "showTitle": false,
     "title": ""
    }
   },
   "outputs": [
    {
     "output_type": "execute_result",
     "data": {
      "text/plain": [
       "DataFrame[sentiment_index: double, prediction: double]"
      ]
     },
     "execution_count": 23,
     "metadata": {},
     "output_type": "execute_result"
    }
   ],
   "source": [
    "df1.unpersist()\n",
    "df2.unpersist()\n",
    "df.unpersist()\n",
    "predictions_lr.unpersist()"
   ]
  }
 ],
 "metadata": {
  "application/vnd.databricks.v1+notebook": {
   "dashboards": [],
   "language": "python",
   "notebookMetadata": {
    "pythonIndentUnit": 2
   },
   "notebookName": "clean_code_v1",
   "widgets": {}
  },
  "kernelspec": {
   "display_name": "Python 3 (ipykernel)",
   "language": "python",
   "name": "python3"
  }
 },
 "nbformat": 4,
 "nbformat_minor": 0
}
